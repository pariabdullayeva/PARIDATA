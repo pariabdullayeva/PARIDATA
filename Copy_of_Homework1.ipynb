{
  "nbformat": 4,
  "nbformat_minor": 0,
  "metadata": {
    "colab": {
      "name": "Copy of Homework1.ipynb",
      "provenance": [],
      "collapsed_sections": [],
      "include_colab_link": true
    },
    "kernelspec": {
      "name": "python3",
      "display_name": "Python 3"
    },
    "language_info": {
      "name": "python"
    }
  },
  "cells": [
    {
      "cell_type": "markdown",
      "metadata": {
        "id": "view-in-github",
        "colab_type": "text"
      },
      "source": [
        "<a href=\"https://colab.research.google.com/github/pariabdullayeva/PARIDATA/blob/main/Copy_of_Homework1.ipynb\" target=\"_parent\"><img src=\"https://colab.research.google.com/assets/colab-badge.svg\" alt=\"Open In Colab\"/></a>"
      ]
    },
    {
      "cell_type": "code",
      "execution_count": null,
      "metadata": {
        "colab": {
          "base_uri": "https://localhost:8080/"
        },
        "id": "jrVeHsm1rpdT",
        "outputId": "0cbadd72-fa9d-49b9-a0ed-1e4fb459c4fd"
      },
      "outputs": [
        {
          "output_type": "stream",
          "name": "stdout",
          "text": [
            "What is your name? Pari\n",
            "What is your age? 20\n",
            "Your name is Pari. Your age is 20\n"
          ]
        }
      ],
      "source": [
        "#Q1-Get your name and age as input and print it in the form like\n",
        "#Your name is Hulisi. Your age is 43\n",
        "name=input('What is your name? ')\n",
        "age=input('What is your age? ')\n",
        "print(\"Your name is \"+name+\". Your age is \"+age+\"\")\n"
      ]
    },
    {
      "cell_type": "code",
      "source": [
        "#Q2-Write a if statement for a given two number is equal or not\n",
        "a=43\n",
        "b=54\n",
        "if(a==b):\n",
        "   print(\"These numbers are equal\")\n",
        "else:\n",
        "   print(\"These numbers are not equal\")"
      ],
      "metadata": {
        "id": "7Sfg03_PuVWa",
        "outputId": "b25c0a5a-2e13-4d02-e708-6ba22f69a80f",
        "colab": {
          "base_uri": "https://localhost:8080/"
        }
      },
      "execution_count": null,
      "outputs": [
        {
          "output_type": "stream",
          "name": "stdout",
          "text": [
            "These numbers are not equal\n"
          ]
        }
      ]
    },
    {
      "cell_type": "code",
      "source": [
        "#Q3-Write a if statement for first number is greater (a), equal or less than second number.(b)\n",
        "a=43\n",
        "b=54\n",
        "if(a>b):\n",
        "  print(\"First number is greater than second number\")\n",
        "if(a==b):\n",
        "  print(\"The first number is eqal to second number\")\n",
        "else:\n",
        "  print(\"The first number is less than second number\")\n",
        "  "
      ],
      "metadata": {
        "id": "NtUibZ07u5gs",
        "outputId": "94e3c7f3-14d8-44d9-a04d-b9f377d3b7e7",
        "colab": {
          "base_uri": "https://localhost:8080/"
        }
      },
      "execution_count": null,
      "outputs": [
        {
          "output_type": "stream",
          "name": "stdout",
          "text": [
            "The first number is less than second number\n"
          ]
        }
      ]
    },
    {
      "cell_type": "code",
      "source": [
        "#Q4- Using for loop, print 1,2,3,4,5\n",
        "for k in range(1,6):\n",
        "  print(k)"
      ],
      "metadata": {
        "id": "U1UMQv36wNHP",
        "outputId": "38c380ec-6f14-4b63-efb9-51ea027854db",
        "colab": {
          "base_uri": "https://localhost:8080/"
        }
      },
      "execution_count": null,
      "outputs": [
        {
          "output_type": "stream",
          "name": "stdout",
          "text": [
            "1\n",
            "2\n",
            "3\n",
            "4\n",
            "5\n"
          ]
        }
      ]
    },
    {
      "cell_type": "code",
      "source": [
        "#Q5-Using while loop, print 5,4,3,2,1\n",
        "for k in range(5,0,-1):\n",
        "  print(k)\n"
      ],
      "metadata": {
        "id": "bh5Lga7XxGY8",
        "outputId": "40495813-cd86-4b0e-db83-40a62f8b45e4",
        "colab": {
          "base_uri": "https://localhost:8080/"
        }
      },
      "execution_count": null,
      "outputs": [
        {
          "output_type": "stream",
          "name": "stdout",
          "text": [
            "5\n",
            "4\n",
            "3\n",
            "2\n",
            "1\n"
          ]
        }
      ]
    },
    {
      "cell_type": "code",
      "source": [
        "#Q6- Using for loop, print 10,6,4,2,0\n",
        "#Hint Print if number is not equal to 8.\n",
        "for k in range(10,-1,-2):\n",
        "  if (k) !=8:\n",
        "    print(k)\n",
        "       \n"
      ],
      "metadata": {
        "id": "cXTTDS49xSoi",
        "outputId": "e141cfc1-c812-4c9c-aabd-8ef89257d3ea",
        "colab": {
          "base_uri": "https://localhost:8080/"
        }
      },
      "execution_count": null,
      "outputs": [
        {
          "output_type": "stream",
          "name": "stdout",
          "text": [
            "10\n",
            "6\n",
            "4\n",
            "2\n",
            "0\n"
          ]
        }
      ]
    },
    {
      "cell_type": "code",
      "source": [
        "#Q7-Write a method to calculate age for a given date of birth year.\n",
        "#Use this method on orer to calculate age of person if date of birth is 1944\n",
        "# if age is the name of function, print(age(1944))\n",
        "def age(birthyear):\n",
        "    return(2022 - birthyear)\n",
        "print(age(1944))\n",
        "\n"
      ],
      "metadata": {
        "id": "geUjb-vuyYbF",
        "outputId": "cd16df0d-ea15-411b-c3ec-3aa63a2bb02d",
        "colab": {
          "base_uri": "https://localhost:8080/"
        }
      },
      "execution_count": null,
      "outputs": [
        {
          "output_type": "stream",
          "name": "stdout",
          "text": [
            "78\n"
          ]
        }
      ]
    },
    {
      "cell_type": "code",
      "source": [
        "#Q8-Write a class named arithmetic with method for calculating addition, substraction, multiplication and division of two numbers.\n",
        "class arithmetic:\n",
        " def addition(x,y):\n",
        "   print(x+y)\n",
        " def substraction(x,y):\n",
        "   print(x-y)\n",
        " def multiplication(x,y):\n",
        "   print(x*y) \n",
        " def division(x,y):\n",
        "   print(x/y)\n",
        "arithmetic.addition(3,4)\n",
        "arithmetic.substraction(3,4)\n",
        "arithmetic.multiplication(3,4)\n",
        "arithmetic.division(3,4)"
      ],
      "metadata": {
        "id": "YcyFzE3fzC7_",
        "outputId": "298fc137-55a5-4e99-958b-83be5ef009d6",
        "colab": {
          "base_uri": "https://localhost:8080/"
        }
      },
      "execution_count": null,
      "outputs": [
        {
          "output_type": "stream",
          "name": "stdout",
          "text": [
            "7\n",
            "-1\n",
            "12\n",
            "0.75\n"
          ]
        }
      ]
    },
    {
      "cell_type": "code",
      "source": [
        "#Q9- write a for loop or method  to calculate summation of first n numbers\n",
        "#i.e if n=3, it will print or return 6 (1+2+3)\n",
        "n=int(input(\"the number is \"))\n",
        "sum= 0 \n",
        "for k in range(1,n+1):\n",
        "     sum = sum + k\n",
        "print(\"sum of first\", n ,\"number is:\", sum)\n",
        "\n",
        "\n"
      ],
      "metadata": {
        "id": "AUJWr5YqzadI",
        "colab": {
          "base_uri": "https://localhost:8080/"
        },
        "outputId": "08a777bb-0580-4b4d-8c7f-bb407dba3d00"
      },
      "execution_count": null,
      "outputs": [
        {
          "output_type": "stream",
          "name": "stdout",
          "text": [
            "the number is 4\n",
            "sum of first 4 number is: 10\n"
          ]
        }
      ]
    },
    {
      "cell_type": "code",
      "source": [
        "#Q10-Generate 10 numbers between 0 and 1 and add into list. Print first three elements of that list.\n",
        "import random\n",
        "list = [] \n",
        "for k in range(0,10):\n",
        "  n = random.uniform(0,1)\n",
        "  list.append(n)\n",
        "list[:3]\n"
      ],
      "metadata": {
        "id": "hmtvJdCL02qx",
        "colab": {
          "base_uri": "https://localhost:8080/"
        },
        "outputId": "4ae71195-48b2-4a0a-90ab-ec343e4af6e1"
      },
      "execution_count": null,
      "outputs": [
        {
          "output_type": "execute_result",
          "data": {
            "text/plain": [
              "[0.6601247932551592, 0.8247171719421093, 0.8280528467638083]"
            ]
          },
          "metadata": {},
          "execution_count": 16
        }
      ]
    },
    {
      "cell_type": "code",
      "source": [
        "#Q11-For a given number n, print numbers divisible by 3 up to that number(n included)\n",
        "#Example: if n=15, print 3,6,9,12,15\n",
        "#Hint you can use modulus statement (if (i%3==0))\n",
        "n=15\n",
        "n=int(input(\"the number is\"))\n",
        "for k in range(1,n+1):\n",
        "   if k%3==0:\n",
        "     print(k)"
      ],
      "metadata": {
        "id": "5O6Y2CujcAAs",
        "outputId": "182fc883-b314-4096-9aaf-a8a4357a76e3",
        "colab": {
          "base_uri": "https://localhost:8080/"
        }
      },
      "execution_count": null,
      "outputs": [
        {
          "output_type": "stream",
          "name": "stdout",
          "text": [
            "the number is12\n",
            "3\n",
            "6\n",
            "9\n",
            "12\n"
          ]
        }
      ]
    }
  ]
}